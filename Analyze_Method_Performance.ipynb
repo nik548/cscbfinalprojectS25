{
  "nbformat": 4,
  "nbformat_minor": 0,
  "metadata": {
    "colab": {
      "provenance": []
    },
    "kernelspec": {
      "name": "python3",
      "display_name": "Python 3"
    },
    "language_info": {
      "name": "python"
    }
  },
  "cells": [
    {
      "cell_type": "code",
      "execution_count": 1,
      "metadata": {
        "colab": {
          "base_uri": "https://localhost:8080/"
        },
        "outputId": "c98ea497-b823-47cc-9a33-e7872c7fe34c",
        "id": "YXFWsQsVVWde"
      },
      "outputs": [
        {
          "output_type": "stream",
          "name": "stdout",
          "text": [
            "Mounted at /content/drive\n",
            "/content/drive/My Drive/CSCB\n",
            " 20k_PBMC_3p_HT_nextgem_Chromium_X_filtered_feature_bc_matrix.h5\n",
            " adHW4_2025.h5ad\n",
            " adHW5_EpiMesoAPS_n500.h5ad\n",
            "'adQuery_n2000_CSCB_HW3 (1).h5ad'\n",
            "'adTrain_n110_CSCB_HW3 (1).h5ad'\n",
            " adValidation_n300_CSCB_HW3.h5ad\n",
            " allTFs_mm_aertslab_011924.txt\n",
            " \u001b[0m\u001b[01;34mEnrichr_CytoTRACE_pseudotime_Early\u001b[0m/\n",
            " \u001b[01;34mEnrichr_CytoTRACE_pseudotime_Late\u001b[0m/\n",
            " \u001b[01;34mEnrichr_CytoTRACE_pseudotime_Middle\u001b[0m/\n",
            " \u001b[01;34mEnrichr_scFates_pseudotime_Early\u001b[0m/\n",
            " \u001b[01;34mEnrichr_scFates_pseudotime_Late\u001b[0m/\n",
            " \u001b[01;34mEnrichr_scFates_pseudotime_Middle\u001b[0m/\n",
            " HW1.ipynb\n",
            " HW2.ipynb\n",
            " HW3.ipynb\n",
            " HW4.ipynb\n",
            " HW5.ipynb\n",
            " OneSC_network.csv\n",
            " pbmc_10k_v3_filtered_feature_bc_matrix.h5\n",
            " pySCN_classifier.pkl\n",
            " Sample_3.h5\n",
            " state_dict.pickle\n"
          ]
        }
      ],
      "source": [
        "from google.colab import drive\n",
        "drive.mount('/content/drive')"
      ]
    },
    {
      "cell_type": "code",
      "source": [
        "!pip uninstall genecnv"
      ],
      "metadata": {
        "colab": {
          "base_uri": "https://localhost:8080/"
        },
        "id": "0CTM8h2IPpMY",
        "outputId": "8b3e5115-e42d-4142-b30f-fc0a3ce4fb4e"
      },
      "execution_count": 2,
      "outputs": [
        {
          "output_type": "stream",
          "name": "stdout",
          "text": [
            "\u001b[33mWARNING: Skipping genecnv as it is not installed.\u001b[0m\u001b[33m\n",
            "\u001b[0m"
          ]
        }
      ]
    },
    {
      "cell_type": "code",
      "source": [
        "!pip install git+https://github.com/nik548/cscbfinalprojectS25.git"
      ],
      "metadata": {
        "colab": {
          "base_uri": "https://localhost:8080/"
        },
        "id": "B4knC97eKGoP",
        "outputId": "daaaeb4b-d605-4013-b9a3-4aa4946158b4"
      },
      "execution_count": 3,
      "outputs": [
        {
          "output_type": "stream",
          "name": "stdout",
          "text": [
            "Collecting git+https://github.com/nik548/cscbfinalprojectS25.git\n",
            "  Cloning https://github.com/nik548/cscbfinalprojectS25.git to /tmp/pip-req-build-2mvx8_2w\n",
            "  Running command git clone --filter=blob:none --quiet https://github.com/nik548/cscbfinalprojectS25.git /tmp/pip-req-build-2mvx8_2w\n",
            "  Resolved https://github.com/nik548/cscbfinalprojectS25.git to commit e9c70dd6b5b580a492ab6f80932a38f375c342ff\n",
            "  Preparing metadata (setup.py) ... \u001b[?25l\u001b[?25hdone\n",
            "Requirement already satisfied: numpy>=1.19 in /usr/local/lib/python3.11/dist-packages (from genecnv==0.1.0) (2.0.2)\n",
            "Requirement already satisfied: pandas>=1.1 in /usr/local/lib/python3.11/dist-packages (from genecnv==0.1.0) (2.2.2)\n",
            "Collecting scanpy>=1.9 (from genecnv==0.1.0)\n",
            "  Downloading scanpy-1.11.1-py3-none-any.whl.metadata (9.9 kB)\n",
            "Collecting anndata>=0.7 (from genecnv==0.1.0)\n",
            "  Downloading anndata-0.11.4-py3-none-any.whl.metadata (9.3 kB)\n",
            "Requirement already satisfied: scipy>=1.5 in /usr/local/lib/python3.11/dist-packages (from genecnv==0.1.0) (1.15.2)\n",
            "Requirement already satisfied: scikit-learn>=0.24 in /usr/local/lib/python3.11/dist-packages (from genecnv==0.1.0) (1.6.1)\n",
            "Collecting hmmlearn>=0.2 (from genecnv==0.1.0)\n",
            "  Downloading hmmlearn-0.3.3-cp311-cp311-manylinux_2_17_x86_64.manylinux2014_x86_64.whl.metadata (3.0 kB)\n",
            "Requirement already satisfied: matplotlib>=3.3 in /usr/local/lib/python3.11/dist-packages (from genecnv==0.1.0) (3.10.0)\n",
            "Requirement already satisfied: seaborn>=0.11 in /usr/local/lib/python3.11/dist-packages (from genecnv==0.1.0) (0.13.2)\n",
            "Collecting python-igraph>=0.9 (from genecnv==0.1.0)\n",
            "  Downloading python_igraph-0.11.8-py3-none-any.whl.metadata (2.8 kB)\n",
            "Collecting mygene>=3.2 (from genecnv==0.1.0)\n",
            "  Downloading mygene-3.2.2-py2.py3-none-any.whl.metadata (10 kB)\n",
            "Collecting array-api-compat!=1.5,>1.4 (from anndata>=0.7->genecnv==0.1.0)\n",
            "  Downloading array_api_compat-1.11.2-py3-none-any.whl.metadata (1.9 kB)\n",
            "Requirement already satisfied: h5py>=3.7 in /usr/local/lib/python3.11/dist-packages (from anndata>=0.7->genecnv==0.1.0) (3.13.0)\n",
            "Requirement already satisfied: natsort in /usr/local/lib/python3.11/dist-packages (from anndata>=0.7->genecnv==0.1.0) (8.4.0)\n",
            "Requirement already satisfied: packaging>=24.2 in /usr/local/lib/python3.11/dist-packages (from anndata>=0.7->genecnv==0.1.0) (24.2)\n",
            "Requirement already satisfied: contourpy>=1.0.1 in /usr/local/lib/python3.11/dist-packages (from matplotlib>=3.3->genecnv==0.1.0) (1.3.2)\n",
            "Requirement already satisfied: cycler>=0.10 in /usr/local/lib/python3.11/dist-packages (from matplotlib>=3.3->genecnv==0.1.0) (0.12.1)\n",
            "Requirement already satisfied: fonttools>=4.22.0 in /usr/local/lib/python3.11/dist-packages (from matplotlib>=3.3->genecnv==0.1.0) (4.57.0)\n",
            "Requirement already satisfied: kiwisolver>=1.3.1 in /usr/local/lib/python3.11/dist-packages (from matplotlib>=3.3->genecnv==0.1.0) (1.4.8)\n",
            "Requirement already satisfied: pillow>=8 in /usr/local/lib/python3.11/dist-packages (from matplotlib>=3.3->genecnv==0.1.0) (11.2.1)\n",
            "Requirement already satisfied: pyparsing>=2.3.1 in /usr/local/lib/python3.11/dist-packages (from matplotlib>=3.3->genecnv==0.1.0) (3.2.3)\n",
            "Requirement already satisfied: python-dateutil>=2.7 in /usr/local/lib/python3.11/dist-packages (from matplotlib>=3.3->genecnv==0.1.0) (2.9.0.post0)\n",
            "Collecting biothings-client>=0.2.6 (from mygene>=3.2->genecnv==0.1.0)\n",
            "  Downloading biothings_client-0.4.1-py3-none-any.whl.metadata (10 kB)\n",
            "Requirement already satisfied: pytz>=2020.1 in /usr/local/lib/python3.11/dist-packages (from pandas>=1.1->genecnv==0.1.0) (2025.2)\n",
            "Requirement already satisfied: tzdata>=2022.7 in /usr/local/lib/python3.11/dist-packages (from pandas>=1.1->genecnv==0.1.0) (2025.2)\n",
            "Collecting igraph==0.11.8 (from python-igraph>=0.9->genecnv==0.1.0)\n",
            "  Downloading igraph-0.11.8-cp39-abi3-manylinux_2_17_x86_64.manylinux2014_x86_64.whl.metadata (3.8 kB)\n",
            "Collecting texttable>=1.6.2 (from igraph==0.11.8->python-igraph>=0.9->genecnv==0.1.0)\n",
            "  Downloading texttable-1.7.0-py2.py3-none-any.whl.metadata (9.8 kB)\n",
            "Requirement already satisfied: joblib in /usr/local/lib/python3.11/dist-packages (from scanpy>=1.9->genecnv==0.1.0) (1.4.2)\n",
            "Collecting legacy-api-wrap>=1.4 (from scanpy>=1.9->genecnv==0.1.0)\n",
            "  Downloading legacy_api_wrap-1.4.1-py3-none-any.whl.metadata (2.1 kB)\n",
            "Requirement already satisfied: networkx>=2.7 in /usr/local/lib/python3.11/dist-packages (from scanpy>=1.9->genecnv==0.1.0) (3.4.2)\n",
            "Requirement already satisfied: numba>=0.57 in /usr/local/lib/python3.11/dist-packages (from scanpy>=1.9->genecnv==0.1.0) (0.60.0)\n",
            "Requirement already satisfied: patsy!=1.0.0 in /usr/local/lib/python3.11/dist-packages (from scanpy>=1.9->genecnv==0.1.0) (1.0.1)\n",
            "Requirement already satisfied: pynndescent>=0.5 in /usr/local/lib/python3.11/dist-packages (from scanpy>=1.9->genecnv==0.1.0) (0.5.13)\n",
            "Collecting scikit-learn>=0.24 (from genecnv==0.1.0)\n",
            "  Downloading scikit_learn-1.5.2-cp311-cp311-manylinux_2_17_x86_64.manylinux2014_x86_64.whl.metadata (13 kB)\n",
            "Collecting session-info2 (from scanpy>=1.9->genecnv==0.1.0)\n",
            "  Downloading session_info2-0.1.2-py3-none-any.whl.metadata (2.5 kB)\n",
            "Requirement already satisfied: statsmodels>=0.13 in /usr/local/lib/python3.11/dist-packages (from scanpy>=1.9->genecnv==0.1.0) (0.14.4)\n",
            "Requirement already satisfied: tqdm in /usr/local/lib/python3.11/dist-packages (from scanpy>=1.9->genecnv==0.1.0) (4.67.1)\n",
            "Requirement already satisfied: typing-extensions in /usr/local/lib/python3.11/dist-packages (from scanpy>=1.9->genecnv==0.1.0) (4.13.2)\n",
            "Requirement already satisfied: umap-learn!=0.5.0,>=0.5 in /usr/local/lib/python3.11/dist-packages (from scanpy>=1.9->genecnv==0.1.0) (0.5.7)\n",
            "Requirement already satisfied: threadpoolctl>=3.1.0 in /usr/local/lib/python3.11/dist-packages (from scikit-learn>=0.24->genecnv==0.1.0) (3.6.0)\n",
            "Requirement already satisfied: httpx>=0.22.0 in /usr/local/lib/python3.11/dist-packages (from biothings-client>=0.2.6->mygene>=3.2->genecnv==0.1.0) (0.28.1)\n",
            "Requirement already satisfied: llvmlite<0.44,>=0.43.0dev0 in /usr/local/lib/python3.11/dist-packages (from numba>=0.57->scanpy>=1.9->genecnv==0.1.0) (0.43.0)\n",
            "Requirement already satisfied: six>=1.5 in /usr/local/lib/python3.11/dist-packages (from python-dateutil>=2.7->matplotlib>=3.3->genecnv==0.1.0) (1.17.0)\n",
            "Requirement already satisfied: anyio in /usr/local/lib/python3.11/dist-packages (from httpx>=0.22.0->biothings-client>=0.2.6->mygene>=3.2->genecnv==0.1.0) (4.9.0)\n",
            "Requirement already satisfied: certifi in /usr/local/lib/python3.11/dist-packages (from httpx>=0.22.0->biothings-client>=0.2.6->mygene>=3.2->genecnv==0.1.0) (2025.4.26)\n",
            "Requirement already satisfied: httpcore==1.* in /usr/local/lib/python3.11/dist-packages (from httpx>=0.22.0->biothings-client>=0.2.6->mygene>=3.2->genecnv==0.1.0) (1.0.9)\n",
            "Requirement already satisfied: idna in /usr/local/lib/python3.11/dist-packages (from httpx>=0.22.0->biothings-client>=0.2.6->mygene>=3.2->genecnv==0.1.0) (3.10)\n",
            "Requirement already satisfied: h11>=0.16 in /usr/local/lib/python3.11/dist-packages (from httpcore==1.*->httpx>=0.22.0->biothings-client>=0.2.6->mygene>=3.2->genecnv==0.1.0) (0.16.0)\n",
            "Requirement already satisfied: sniffio>=1.1 in /usr/local/lib/python3.11/dist-packages (from anyio->httpx>=0.22.0->biothings-client>=0.2.6->mygene>=3.2->genecnv==0.1.0) (1.3.1)\n",
            "Downloading anndata-0.11.4-py3-none-any.whl (144 kB)\n",
            "\u001b[2K   \u001b[90m━━━━━━━━━━━━━━━━━━━━━━━━━━━━━━━━━━━━━━━━\u001b[0m \u001b[32m144.5/144.5 kB\u001b[0m \u001b[31m6.6 MB/s\u001b[0m eta \u001b[36m0:00:00\u001b[0m\n",
            "\u001b[?25hDownloading hmmlearn-0.3.3-cp311-cp311-manylinux_2_17_x86_64.manylinux2014_x86_64.whl (165 kB)\n",
            "\u001b[2K   \u001b[90m━━━━━━━━━━━━━━━━━━━━━━━━━━━━━━━━━━━━━━━━\u001b[0m \u001b[32m165.9/165.9 kB\u001b[0m \u001b[31m11.7 MB/s\u001b[0m eta \u001b[36m0:00:00\u001b[0m\n",
            "\u001b[?25hDownloading mygene-3.2.2-py2.py3-none-any.whl (5.4 kB)\n",
            "Downloading python_igraph-0.11.8-py3-none-any.whl (9.1 kB)\n",
            "Downloading igraph-0.11.8-cp39-abi3-manylinux_2_17_x86_64.manylinux2014_x86_64.whl (3.1 MB)\n",
            "\u001b[2K   \u001b[90m━━━━━━━━━━━━━━━━━━━━━━━━━━━━━━━━━━━━━━━━\u001b[0m \u001b[32m3.1/3.1 MB\u001b[0m \u001b[31m26.7 MB/s\u001b[0m eta \u001b[36m0:00:00\u001b[0m\n",
            "\u001b[?25hDownloading scanpy-1.11.1-py3-none-any.whl (2.1 MB)\n",
            "\u001b[2K   \u001b[90m━━━━━━━━━━━━━━━━━━━━━━━━━━━━━━━━━━━━━━━━\u001b[0m \u001b[32m2.1/2.1 MB\u001b[0m \u001b[31m25.9 MB/s\u001b[0m eta \u001b[36m0:00:00\u001b[0m\n",
            "\u001b[?25hDownloading scikit_learn-1.5.2-cp311-cp311-manylinux_2_17_x86_64.manylinux2014_x86_64.whl (13.3 MB)\n",
            "\u001b[2K   \u001b[90m━━━━━━━━━━━━━━━━━━━━━━━━━━━━━━━━━━━━━━━━\u001b[0m \u001b[32m13.3/13.3 MB\u001b[0m \u001b[31m23.6 MB/s\u001b[0m eta \u001b[36m0:00:00\u001b[0m\n",
            "\u001b[?25hDownloading array_api_compat-1.11.2-py3-none-any.whl (53 kB)\n",
            "\u001b[2K   \u001b[90m━━━━━━━━━━━━━━━━━━━━━━━━━━━━━━━━━━━━━━━━\u001b[0m \u001b[32m53.1/53.1 kB\u001b[0m \u001b[31m4.2 MB/s\u001b[0m eta \u001b[36m0:00:00\u001b[0m\n",
            "\u001b[?25hDownloading biothings_client-0.4.1-py3-none-any.whl (46 kB)\n",
            "\u001b[2K   \u001b[90m━━━━━━━━━━━━━━━━━━━━━━━━━━━━━━━━━━━━━━━━\u001b[0m \u001b[32m46.7/46.7 kB\u001b[0m \u001b[31m3.0 MB/s\u001b[0m eta \u001b[36m0:00:00\u001b[0m\n",
            "\u001b[?25hDownloading legacy_api_wrap-1.4.1-py3-none-any.whl (10.0 kB)\n",
            "Downloading session_info2-0.1.2-py3-none-any.whl (14 kB)\n",
            "Downloading texttable-1.7.0-py2.py3-none-any.whl (10 kB)\n",
            "Building wheels for collected packages: genecnv\n",
            "  Building wheel for genecnv (setup.py) ... \u001b[?25l\u001b[?25hdone\n",
            "  Created wheel for genecnv: filename=genecnv-0.1.0-py3-none-any.whl size=12362 sha256=d94e9bc3d05e3cca3f6ff73f438855babee65a2372d25b848fd5fb1436e830fb\n",
            "  Stored in directory: /tmp/pip-ephem-wheel-cache-zwayqxmy/wheels/07/07/23/7aaef129afafd97bc8ace0b5ef55ed4cbc3756a9e062a9db35\n",
            "Successfully built genecnv\n",
            "Installing collected packages: texttable, session-info2, legacy-api-wrap, igraph, array-api-compat, scikit-learn, python-igraph, hmmlearn, biothings-client, anndata, mygene, scanpy, genecnv\n",
            "  Attempting uninstall: scikit-learn\n",
            "    Found existing installation: scikit-learn 1.6.1\n",
            "    Uninstalling scikit-learn-1.6.1:\n",
            "      Successfully uninstalled scikit-learn-1.6.1\n",
            "Successfully installed anndata-0.11.4 array-api-compat-1.11.2 biothings-client-0.4.1 genecnv-0.1.0 hmmlearn-0.3.3 igraph-0.11.8 legacy-api-wrap-1.4.1 mygene-3.2.2 python-igraph-0.11.8 scanpy-1.11.1 scikit-learn-1.5.2 session-info2-0.1.2 texttable-1.7.0\n"
          ]
        }
      ]
    },
    {
      "cell_type": "code",
      "source": [
        "import genecnv as genecnv"
      ],
      "metadata": {
        "id": "LLCKjHORPNta"
      },
      "execution_count": 4,
      "outputs": []
    },
    {
      "cell_type": "code",
      "source": [
        "from genecnv import run_adaptive_cnv_pipeline, annotate_cnv_calls, annotate_genes_mygene, preprocess"
      ],
      "metadata": {
        "id": "Zi4_9sKmKL4b"
      },
      "execution_count": 5,
      "outputs": []
    },
    {
      "cell_type": "code",
      "execution_count": 6,
      "metadata": {
        "colab": {
          "base_uri": "https://localhost:8080/"
        },
        "outputId": "518b8378-6efe-4114-f711-b4c8261c7e65",
        "id": "csIaeuSxVWdd"
      },
      "outputs": [
        {
          "output_type": "stream",
          "name": "stdout",
          "text": [
            "Requirement already satisfied: scanpy in /usr/local/lib/python3.11/dist-packages (1.11.1)\n",
            "Requirement already satisfied: python-igraph in /usr/local/lib/python3.11/dist-packages (0.11.8)\n",
            "Requirement already satisfied: scipy in /usr/local/lib/python3.11/dist-packages (1.15.2)\n",
            "Requirement already satisfied: anndata in /usr/local/lib/python3.11/dist-packages (0.11.4)\n",
            "Requirement already satisfied: h5py>=3.7 in /usr/local/lib/python3.11/dist-packages (from scanpy) (3.13.0)\n",
            "Requirement already satisfied: joblib in /usr/local/lib/python3.11/dist-packages (from scanpy) (1.4.2)\n",
            "Requirement already satisfied: legacy-api-wrap>=1.4 in /usr/local/lib/python3.11/dist-packages (from scanpy) (1.4.1)\n",
            "Requirement already satisfied: matplotlib>=3.7 in /usr/local/lib/python3.11/dist-packages (from scanpy) (3.10.0)\n",
            "Requirement already satisfied: natsort in /usr/local/lib/python3.11/dist-packages (from scanpy) (8.4.0)\n",
            "Requirement already satisfied: networkx>=2.7 in /usr/local/lib/python3.11/dist-packages (from scanpy) (3.4.2)\n",
            "Requirement already satisfied: numba>=0.57 in /usr/local/lib/python3.11/dist-packages (from scanpy) (0.60.0)\n",
            "Requirement already satisfied: numpy>=1.24 in /usr/local/lib/python3.11/dist-packages (from scanpy) (2.0.2)\n",
            "Requirement already satisfied: packaging>=21.3 in /usr/local/lib/python3.11/dist-packages (from scanpy) (24.2)\n",
            "Requirement already satisfied: pandas>=1.5 in /usr/local/lib/python3.11/dist-packages (from scanpy) (2.2.2)\n",
            "Requirement already satisfied: patsy!=1.0.0 in /usr/local/lib/python3.11/dist-packages (from scanpy) (1.0.1)\n",
            "Requirement already satisfied: pynndescent>=0.5 in /usr/local/lib/python3.11/dist-packages (from scanpy) (0.5.13)\n",
            "Requirement already satisfied: scikit-learn<1.6.0,>=1.1 in /usr/local/lib/python3.11/dist-packages (from scanpy) (1.5.2)\n",
            "Requirement already satisfied: seaborn>=0.13 in /usr/local/lib/python3.11/dist-packages (from scanpy) (0.13.2)\n",
            "Requirement already satisfied: session-info2 in /usr/local/lib/python3.11/dist-packages (from scanpy) (0.1.2)\n",
            "Requirement already satisfied: statsmodels>=0.13 in /usr/local/lib/python3.11/dist-packages (from scanpy) (0.14.4)\n",
            "Requirement already satisfied: tqdm in /usr/local/lib/python3.11/dist-packages (from scanpy) (4.67.1)\n",
            "Requirement already satisfied: typing-extensions in /usr/local/lib/python3.11/dist-packages (from scanpy) (4.13.2)\n",
            "Requirement already satisfied: umap-learn!=0.5.0,>=0.5 in /usr/local/lib/python3.11/dist-packages (from scanpy) (0.5.7)\n",
            "Requirement already satisfied: igraph==0.11.8 in /usr/local/lib/python3.11/dist-packages (from python-igraph) (0.11.8)\n",
            "Requirement already satisfied: texttable>=1.6.2 in /usr/local/lib/python3.11/dist-packages (from igraph==0.11.8->python-igraph) (1.7.0)\n",
            "Requirement already satisfied: array-api-compat!=1.5,>1.4 in /usr/local/lib/python3.11/dist-packages (from anndata) (1.11.2)\n",
            "Requirement already satisfied: contourpy>=1.0.1 in /usr/local/lib/python3.11/dist-packages (from matplotlib>=3.7->scanpy) (1.3.2)\n",
            "Requirement already satisfied: cycler>=0.10 in /usr/local/lib/python3.11/dist-packages (from matplotlib>=3.7->scanpy) (0.12.1)\n",
            "Requirement already satisfied: fonttools>=4.22.0 in /usr/local/lib/python3.11/dist-packages (from matplotlib>=3.7->scanpy) (4.57.0)\n",
            "Requirement already satisfied: kiwisolver>=1.3.1 in /usr/local/lib/python3.11/dist-packages (from matplotlib>=3.7->scanpy) (1.4.8)\n",
            "Requirement already satisfied: pillow>=8 in /usr/local/lib/python3.11/dist-packages (from matplotlib>=3.7->scanpy) (11.2.1)\n",
            "Requirement already satisfied: pyparsing>=2.3.1 in /usr/local/lib/python3.11/dist-packages (from matplotlib>=3.7->scanpy) (3.2.3)\n",
            "Requirement already satisfied: python-dateutil>=2.7 in /usr/local/lib/python3.11/dist-packages (from matplotlib>=3.7->scanpy) (2.9.0.post0)\n",
            "Requirement already satisfied: llvmlite<0.44,>=0.43.0dev0 in /usr/local/lib/python3.11/dist-packages (from numba>=0.57->scanpy) (0.43.0)\n",
            "Requirement already satisfied: pytz>=2020.1 in /usr/local/lib/python3.11/dist-packages (from pandas>=1.5->scanpy) (2025.2)\n",
            "Requirement already satisfied: tzdata>=2022.7 in /usr/local/lib/python3.11/dist-packages (from pandas>=1.5->scanpy) (2025.2)\n",
            "Requirement already satisfied: threadpoolctl>=3.1.0 in /usr/local/lib/python3.11/dist-packages (from scikit-learn<1.6.0,>=1.1->scanpy) (3.6.0)\n",
            "Requirement already satisfied: six>=1.5 in /usr/local/lib/python3.11/dist-packages (from python-dateutil>=2.7->matplotlib>=3.7->scanpy) (1.17.0)\n"
          ]
        }
      ],
      "source": [
        "!pip install scanpy python-igraph scipy anndata"
      ]
    },
    {
      "cell_type": "code",
      "execution_count": 7,
      "metadata": {
        "id": "hqXLxQ2bVWde"
      },
      "outputs": [],
      "source": [
        "import warnings\n",
        "warnings.filterwarnings(\"ignore\", category=FutureWarning)\n",
        "import os, sys\n",
        "import numpy as np\n",
        "import pandas as pd\n",
        "import matplotlib.pyplot as plt\n",
        "import scanpy as sc\n",
        "import anndata as ad\n",
        "from sklearn.metrics import f1_score\n",
        "import seaborn as sns\n",
        "from typing import List, Dict, Optional, Tuple\n",
        "from scipy.stats import zscore\n",
        "from scipy.sparse import csr_matrix, issparse"
      ]
    },
    {
      "cell_type": "code",
      "execution_count": 8,
      "metadata": {
        "id": "O-s3r5OCVWde"
      },
      "outputs": [],
      "source": [
        "data = ad.read_h5ad('/content/drive/MyDrive/CSCB_Final/Data/PBMC_simulated_cnas_041025.h5ad')"
      ]
    },
    {
      "cell_type": "code",
      "execution_count": 9,
      "metadata": {
        "colab": {
          "base_uri": "https://localhost:8080/"
        },
        "id": "PevQZEHMZ-dZ",
        "outputId": "a04ab79f-5463-489f-b247-a8602ff245d7"
      },
      "outputs": [
        {
          "output_type": "stream",
          "name": "stderr",
          "text": [
            "INFO:biothings.client:querying 1-411 ...\n"
          ]
        },
        {
          "output_type": "stream",
          "name": "stdout",
          "text": [
            "Querying MyGene.info for 411 genes...\n"
          ]
        },
        {
          "output_type": "stream",
          "name": "stderr",
          "text": [
            "INFO:biothings.client:Finished.\n",
            "WARNING:biothings.client:30 input query terms found dup hits:\t[('OCLM', 3), ('MTRNR2L11', 2), ('ATXN7', 10), ('MTRNR2L13', 2), ('FAM153B', 7), ('TSTD3', 10), ('SO\n",
            "WARNING:biothings.client:337 input query terms found no hit:\t['AL627309.1', 'AL645608.3', 'AL365255.1', 'AL109811.4', 'AL109811.3', 'AL109811.1', 'AC254633.1', '\n"
          ]
        },
        {
          "output_type": "stream",
          "name": "stdout",
          "text": [
            "After query, 358 genes remain un-annotated.\n",
            "Dropped 358 genes without coordinates.\n",
            "[QC] Filtered to 10259 cells\n",
            "[QC] Retained 19425 genes after min_cells_per_gene=3\n",
            "[QC] Retained 1991 genes with genomic coords\n",
            "[Norm] Scaled to 10000.0 counts per cell\n",
            "[Norm] Applied log1p\n",
            "[Preprocess] Completed: 10259 cells × 1991 genes\n"
          ]
        }
      ],
      "source": [
        "# ──────────────────────────────────────────────────────────────────────────────\n",
        "# Example usage:\n",
        "# ──────────────────────────────────────────────────────────────────────────────\n",
        "# Load or create an AnnData object (adata)\n",
        "adata = ad.read_h5ad('/content/drive/MyDrive/CSCB_Final/Data/PBMC_simulated_cnas_041025.h5ad')\n",
        "\n",
        "# (Optional) Annotate genes if coordinates missing\n",
        "adata = annotate_genes_mygene(adata)\n",
        "\n",
        "# (Optional) Clean data\n",
        "adata_clean = preprocess(adata,  allowed_chromosomes=['6', '22'] + ['X'])\n",
        "\n",
        "# Using optimal hyperparameters obtained via tuning\n",
        "adata_with_calls, bins, centers, calls = run_adaptive_cnv_pipeline(\n",
        "    adata_clean,\n",
        "    cell_type_key='cell_type',\n",
        "    target_genes_per_bin=100,\n",
        "    decay_scale=1e6,\n",
        "    decay_radius=10,\n",
        "    reference_frac=0.15,\n",
        "    min_run=3,\n",
        "    n_cells = None\n",
        ")\n",
        "# Then call annotation:\n",
        "annotate_cnv_calls(adata_with_calls, calls, bins, centers, test = True)"
      ]
    },
    {
      "cell_type": "code",
      "source": [
        "import re\n",
        "\n",
        "def compute_metrics(\n",
        "    adata: sc.AnnData,\n",
        "    gt_col: str,\n",
        "    pred_col: str,\n",
        "    overlap_fraction: float = 0.5\n",
        ") -> pd.DataFrame:\n",
        "    \"\"\"\n",
        "    Compute cell‑level confusion metrics by matching predicted vs. ground‑truth CNV regions,\n",
        "    and return them as a 1‑row pandas DataFrame.\n",
        "\n",
        "    Parameters\n",
        "    ----------\n",
        "    adata\n",
        "        AnnData with CNV region strings in obs[gt_col] and obs[pred_col].\n",
        "    gt_col, pred_col : str\n",
        "        Column names in adata.obs for ground‑truth and predicted region annotations.\n",
        "    overlap_fraction : float\n",
        "        Minimum fraction of a ground‑truth segment that must be overlapped by a prediction\n",
        "        (on the same chromosome) to count as a true positive.\n",
        "\n",
        "    Returns\n",
        "    -------\n",
        "    pd.DataFrame\n",
        "        One‑row table with columns [accuracy, precision, recall, specificity, TP, TN, FP, FN].\n",
        "    \"\"\"\n",
        "    pattern = re.compile(r\"([0-9XY]+):([0-9,]+)-([0-9,]+)\")\n",
        "    def parse(txt):\n",
        "        out = []\n",
        "        for m in pattern.finditer(txt or \"\"):\n",
        "            chrom, s, e = m.groups()\n",
        "            out.append((chrom, int(s.replace(\",\",\"\")), int(e.replace(\",\",\"\"))))\n",
        "        return out\n",
        "\n",
        "    TP = TN = FP = FN = 0\n",
        "    for cell in adata.obs_names:\n",
        "        gt = parse(adata.obs.at[cell, gt_col] or \"\")\n",
        "        pr = parse(adata.obs.at[cell, pred_col] or \"\")\n",
        "        pred_pos = len(pr) > 0\n",
        "        truth_pos = True\n",
        "\n",
        "        # require every GT interval to find a matching PR interval\n",
        "        for cg, sg, eg in gt:\n",
        "            matched = False\n",
        "            length = eg - sg\n",
        "            if length <= 0:\n",
        "                truth_pos = False\n",
        "                break\n",
        "            for cp, sp, ep in pr:\n",
        "                if cp != cg:\n",
        "                    continue\n",
        "                overlap = max(0, min(ep, eg) - max(sp, sg))\n",
        "                if overlap / length >= overlap_fraction:\n",
        "                    matched = True\n",
        "                    break\n",
        "            if not matched:\n",
        "                truth_pos = False\n",
        "                break\n",
        "\n",
        "        if truth_pos and pred_pos:\n",
        "            TP += 1\n",
        "        elif not truth_pos and not pred_pos:\n",
        "            TN += 1\n",
        "        elif not truth_pos and pred_pos:\n",
        "            FP += 1\n",
        "        elif truth_pos and not pred_pos:\n",
        "            FN += 1\n",
        "\n",
        "    total = TP + TN + FP + FN\n",
        "    acc = (TP + TN) / total if total else np.nan\n",
        "    prec = TP / (TP + FP) if (TP + FP) else 0.0\n",
        "    rec = TP / (TP + FN) if (TP + FN) else 0.0\n",
        "    spec = TN / (TN + FP) if (TN + FP) else 0.0\n",
        "\n",
        "    # return as a table\n",
        "    return pd.DataFrame([{\n",
        "        'accuracy':    acc,\n",
        "        'precision':   prec,\n",
        "        'recall':      rec,\n",
        "        'specificity': spec,\n",
        "        'TP':          TP,\n",
        "        'TN':          TN,\n",
        "        'FP':          FP,\n",
        "        'FN':          FN\n",
        "    }])\n",
        "\n",
        "\n"
      ],
      "metadata": {
        "id": "IBhlYnHXrIDR"
      },
      "execution_count": 12,
      "outputs": []
    },
    {
      "cell_type": "code",
      "source": [
        "from sklearn.metrics import confusion_matrix\n",
        "import seaborn as sns\n",
        "import matplotlib.pyplot as plt\n",
        "\n",
        "metrics = compute_metrics(adata_with_calls, 'simulated_cnvs', 'cnv_regions')\n",
        "display(metrics)\n",
        "\n",
        "\n",
        "# 2) build y_true / y_pred boolean vectors properly\n",
        "#    A cell is “positive” if its CNV‐string is non‐empty\n",
        "y_true = adata_with_calls.obs['simulated_cnvs'].fillna(\"\").map(lambda s: len(s)>0).values\n",
        "y_pred = adata_with_calls.obs['cnv_regions'].fillna(\"\").map(lambda s: len(s)>0).values\n",
        "\n",
        "# 3) confusion matrix heatmap\n",
        "cm = confusion_matrix(y_true, y_pred)\n",
        "sns.heatmap(cm, annot=True, fmt='d', cmap='Blues',\n",
        "            xticklabels=['pred_neg','pred_pos'],\n",
        "            yticklabels=['true_neg','true_pos'])\n",
        "plt.xlabel('Predicted')\n",
        "plt.ylabel('Ground truth')\n",
        "plt.title('Cell‑level confusion matrix')\n",
        "plt.show()\n",
        "\n",
        "# 4) bar‑plot of the four metrics\n",
        "metrics = df.iloc[0][['accuracy','precision','recall','specificity']]\n",
        "sns.barplot(x=metrics.index, y=metrics.values)\n",
        "plt.ylim(0,1)\n",
        "plt.title('Cell‑level performance metrics')\n",
        "plt.show()\n"
      ],
      "metadata": {
        "colab": {
          "base_uri": "https://localhost:8080/",
          "height": 999
        },
        "id": "WMMc_Xw0rx8b",
        "outputId": "11c446e4-5cd0-49cd-c9d1-987fbc9b8cda"
      },
      "execution_count": 15,
      "outputs": [
        {
          "output_type": "display_data",
          "data": {
            "text/plain": [
              "   accuracy  precision    recall  specificity    TP    TN    FP    FN\n",
              "0  0.705624   0.785634  0.788298     0.521835  5578  1661  1522  1498"
            ],
            "text/html": [
              "\n",
              "  <div id=\"df-366cb156-ac41-4d08-8976-4b95a9831c6b\" class=\"colab-df-container\">\n",
              "    <div>\n",
              "<style scoped>\n",
              "    .dataframe tbody tr th:only-of-type {\n",
              "        vertical-align: middle;\n",
              "    }\n",
              "\n",
              "    .dataframe tbody tr th {\n",
              "        vertical-align: top;\n",
              "    }\n",
              "\n",
              "    .dataframe thead th {\n",
              "        text-align: right;\n",
              "    }\n",
              "</style>\n",
              "<table border=\"1\" class=\"dataframe\">\n",
              "  <thead>\n",
              "    <tr style=\"text-align: right;\">\n",
              "      <th></th>\n",
              "      <th>accuracy</th>\n",
              "      <th>precision</th>\n",
              "      <th>recall</th>\n",
              "      <th>specificity</th>\n",
              "      <th>TP</th>\n",
              "      <th>TN</th>\n",
              "      <th>FP</th>\n",
              "      <th>FN</th>\n",
              "    </tr>\n",
              "  </thead>\n",
              "  <tbody>\n",
              "    <tr>\n",
              "      <th>0</th>\n",
              "      <td>0.705624</td>\n",
              "      <td>0.785634</td>\n",
              "      <td>0.788298</td>\n",
              "      <td>0.521835</td>\n",
              "      <td>5578</td>\n",
              "      <td>1661</td>\n",
              "      <td>1522</td>\n",
              "      <td>1498</td>\n",
              "    </tr>\n",
              "  </tbody>\n",
              "</table>\n",
              "</div>\n",
              "    <div class=\"colab-df-buttons\">\n",
              "\n",
              "  <div class=\"colab-df-container\">\n",
              "    <button class=\"colab-df-convert\" onclick=\"convertToInteractive('df-366cb156-ac41-4d08-8976-4b95a9831c6b')\"\n",
              "            title=\"Convert this dataframe to an interactive table.\"\n",
              "            style=\"display:none;\">\n",
              "\n",
              "  <svg xmlns=\"http://www.w3.org/2000/svg\" height=\"24px\" viewBox=\"0 -960 960 960\">\n",
              "    <path d=\"M120-120v-720h720v720H120Zm60-500h600v-160H180v160Zm220 220h160v-160H400v160Zm0 220h160v-160H400v160ZM180-400h160v-160H180v160Zm440 0h160v-160H620v160ZM180-180h160v-160H180v160Zm440 0h160v-160H620v160Z\"/>\n",
              "  </svg>\n",
              "    </button>\n",
              "\n",
              "  <style>\n",
              "    .colab-df-container {\n",
              "      display:flex;\n",
              "      gap: 12px;\n",
              "    }\n",
              "\n",
              "    .colab-df-convert {\n",
              "      background-color: #E8F0FE;\n",
              "      border: none;\n",
              "      border-radius: 50%;\n",
              "      cursor: pointer;\n",
              "      display: none;\n",
              "      fill: #1967D2;\n",
              "      height: 32px;\n",
              "      padding: 0 0 0 0;\n",
              "      width: 32px;\n",
              "    }\n",
              "\n",
              "    .colab-df-convert:hover {\n",
              "      background-color: #E2EBFA;\n",
              "      box-shadow: 0px 1px 2px rgba(60, 64, 67, 0.3), 0px 1px 3px 1px rgba(60, 64, 67, 0.15);\n",
              "      fill: #174EA6;\n",
              "    }\n",
              "\n",
              "    .colab-df-buttons div {\n",
              "      margin-bottom: 4px;\n",
              "    }\n",
              "\n",
              "    [theme=dark] .colab-df-convert {\n",
              "      background-color: #3B4455;\n",
              "      fill: #D2E3FC;\n",
              "    }\n",
              "\n",
              "    [theme=dark] .colab-df-convert:hover {\n",
              "      background-color: #434B5C;\n",
              "      box-shadow: 0px 1px 3px 1px rgba(0, 0, 0, 0.15);\n",
              "      filter: drop-shadow(0px 1px 2px rgba(0, 0, 0, 0.3));\n",
              "      fill: #FFFFFF;\n",
              "    }\n",
              "  </style>\n",
              "\n",
              "    <script>\n",
              "      const buttonEl =\n",
              "        document.querySelector('#df-366cb156-ac41-4d08-8976-4b95a9831c6b button.colab-df-convert');\n",
              "      buttonEl.style.display =\n",
              "        google.colab.kernel.accessAllowed ? 'block' : 'none';\n",
              "\n",
              "      async function convertToInteractive(key) {\n",
              "        const element = document.querySelector('#df-366cb156-ac41-4d08-8976-4b95a9831c6b');\n",
              "        const dataTable =\n",
              "          await google.colab.kernel.invokeFunction('convertToInteractive',\n",
              "                                                    [key], {});\n",
              "        if (!dataTable) return;\n",
              "\n",
              "        const docLinkHtml = 'Like what you see? Visit the ' +\n",
              "          '<a target=\"_blank\" href=https://colab.research.google.com/notebooks/data_table.ipynb>data table notebook</a>'\n",
              "          + ' to learn more about interactive tables.';\n",
              "        element.innerHTML = '';\n",
              "        dataTable['output_type'] = 'display_data';\n",
              "        await google.colab.output.renderOutput(dataTable, element);\n",
              "        const docLink = document.createElement('div');\n",
              "        docLink.innerHTML = docLinkHtml;\n",
              "        element.appendChild(docLink);\n",
              "      }\n",
              "    </script>\n",
              "  </div>\n",
              "\n",
              "\n",
              "  <div id=\"id_8cd4890e-0512-46ed-89f1-9ae26998241a\">\n",
              "    <style>\n",
              "      .colab-df-generate {\n",
              "        background-color: #E8F0FE;\n",
              "        border: none;\n",
              "        border-radius: 50%;\n",
              "        cursor: pointer;\n",
              "        display: none;\n",
              "        fill: #1967D2;\n",
              "        height: 32px;\n",
              "        padding: 0 0 0 0;\n",
              "        width: 32px;\n",
              "      }\n",
              "\n",
              "      .colab-df-generate:hover {\n",
              "        background-color: #E2EBFA;\n",
              "        box-shadow: 0px 1px 2px rgba(60, 64, 67, 0.3), 0px 1px 3px 1px rgba(60, 64, 67, 0.15);\n",
              "        fill: #174EA6;\n",
              "      }\n",
              "\n",
              "      [theme=dark] .colab-df-generate {\n",
              "        background-color: #3B4455;\n",
              "        fill: #D2E3FC;\n",
              "      }\n",
              "\n",
              "      [theme=dark] .colab-df-generate:hover {\n",
              "        background-color: #434B5C;\n",
              "        box-shadow: 0px 1px 3px 1px rgba(0, 0, 0, 0.15);\n",
              "        filter: drop-shadow(0px 1px 2px rgba(0, 0, 0, 0.3));\n",
              "        fill: #FFFFFF;\n",
              "      }\n",
              "    </style>\n",
              "    <button class=\"colab-df-generate\" onclick=\"generateWithVariable('metrics')\"\n",
              "            title=\"Generate code using this dataframe.\"\n",
              "            style=\"display:none;\">\n",
              "\n",
              "  <svg xmlns=\"http://www.w3.org/2000/svg\" height=\"24px\"viewBox=\"0 0 24 24\"\n",
              "       width=\"24px\">\n",
              "    <path d=\"M7,19H8.4L18.45,9,17,7.55,7,17.6ZM5,21V16.75L18.45,3.32a2,2,0,0,1,2.83,0l1.4,1.43a1.91,1.91,0,0,1,.58,1.4,1.91,1.91,0,0,1-.58,1.4L9.25,21ZM18.45,9,17,7.55Zm-12,3A5.31,5.31,0,0,0,4.9,8.1,5.31,5.31,0,0,0,1,6.5,5.31,5.31,0,0,0,4.9,4.9,5.31,5.31,0,0,0,6.5,1,5.31,5.31,0,0,0,8.1,4.9,5.31,5.31,0,0,0,12,6.5,5.46,5.46,0,0,0,6.5,12Z\"/>\n",
              "  </svg>\n",
              "    </button>\n",
              "    <script>\n",
              "      (() => {\n",
              "      const buttonEl =\n",
              "        document.querySelector('#id_8cd4890e-0512-46ed-89f1-9ae26998241a button.colab-df-generate');\n",
              "      buttonEl.style.display =\n",
              "        google.colab.kernel.accessAllowed ? 'block' : 'none';\n",
              "\n",
              "      buttonEl.onclick = () => {\n",
              "        google.colab.notebook.generateWithVariable('metrics');\n",
              "      }\n",
              "      })();\n",
              "    </script>\n",
              "  </div>\n",
              "\n",
              "    </div>\n",
              "  </div>\n"
            ],
            "application/vnd.google.colaboratory.intrinsic+json": {
              "type": "dataframe",
              "variable_name": "metrics",
              "summary": "{\n  \"name\": \"metrics\",\n  \"rows\": 1,\n  \"fields\": [\n    {\n      \"column\": \"accuracy\",\n      \"properties\": {\n        \"dtype\": \"number\",\n        \"std\": null,\n        \"min\": 0.7056243298567112,\n        \"max\": 0.7056243298567112,\n        \"num_unique_values\": 1,\n        \"samples\": [\n          0.7056243298567112\n        ],\n        \"semantic_type\": \"\",\n        \"description\": \"\"\n      }\n    },\n    {\n      \"column\": \"precision\",\n      \"properties\": {\n        \"dtype\": \"number\",\n        \"std\": null,\n        \"min\": 0.7856338028169014,\n        \"max\": 0.7856338028169014,\n        \"num_unique_values\": 1,\n        \"samples\": [\n          0.7856338028169014\n        ],\n        \"semantic_type\": \"\",\n        \"description\": \"\"\n      }\n    },\n    {\n      \"column\": \"recall\",\n      \"properties\": {\n        \"dtype\": \"number\",\n        \"std\": null,\n        \"min\": 0.7882984737139627,\n        \"max\": 0.7882984737139627,\n        \"num_unique_values\": 1,\n        \"samples\": [\n          0.7882984737139627\n        ],\n        \"semantic_type\": \"\",\n        \"description\": \"\"\n      }\n    },\n    {\n      \"column\": \"specificity\",\n      \"properties\": {\n        \"dtype\": \"number\",\n        \"std\": null,\n        \"min\": 0.5218347470939365,\n        \"max\": 0.5218347470939365,\n        \"num_unique_values\": 1,\n        \"samples\": [\n          0.5218347470939365\n        ],\n        \"semantic_type\": \"\",\n        \"description\": \"\"\n      }\n    },\n    {\n      \"column\": \"TP\",\n      \"properties\": {\n        \"dtype\": \"number\",\n        \"std\": null,\n        \"min\": 5578,\n        \"max\": 5578,\n        \"num_unique_values\": 1,\n        \"samples\": [\n          5578\n        ],\n        \"semantic_type\": \"\",\n        \"description\": \"\"\n      }\n    },\n    {\n      \"column\": \"TN\",\n      \"properties\": {\n        \"dtype\": \"number\",\n        \"std\": null,\n        \"min\": 1661,\n        \"max\": 1661,\n        \"num_unique_values\": 1,\n        \"samples\": [\n          1661\n        ],\n        \"semantic_type\": \"\",\n        \"description\": \"\"\n      }\n    },\n    {\n      \"column\": \"FP\",\n      \"properties\": {\n        \"dtype\": \"number\",\n        \"std\": null,\n        \"min\": 1522,\n        \"max\": 1522,\n        \"num_unique_values\": 1,\n        \"samples\": [\n          1522\n        ],\n        \"semantic_type\": \"\",\n        \"description\": \"\"\n      }\n    },\n    {\n      \"column\": \"FN\",\n      \"properties\": {\n        \"dtype\": \"number\",\n        \"std\": null,\n        \"min\": 1498,\n        \"max\": 1498,\n        \"num_unique_values\": 1,\n        \"samples\": [\n          1498\n        ],\n        \"semantic_type\": \"\",\n        \"description\": \"\"\n      }\n    }\n  ]\n}"
            }
          },
          "metadata": {}
        },
        {
          "output_type": "display_data",
          "data": {
            "text/plain": [
              "<Figure size 640x480 with 2 Axes>"
            ],
            "image/png": "[encoded data removed]"
          },
          "metadata": {}
        },
        {
          "output_type": "display_data",
          "data": {
            "text/plain": [
              "<Figure size 640x480 with 1 Axes>"
            ],
            "image/png": "[encoded data removed]"
          },
          "metadata": {}
        }
      ]
    },
    {
      "cell_type": "markdown",
      "source": [
        "Our method performs moderately well in terms of accuracy, precision and recall. The specificity isn't that great as our method tends to overcall CNVs (i.e., more predicted postives then we would like), but this is something we can continue to work on in the future."
      ],
      "metadata": {
        "id": "osRc1VCKdqbQ"
      }
    }
  ]
}